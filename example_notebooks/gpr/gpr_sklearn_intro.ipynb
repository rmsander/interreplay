{
 "cells": [
  {
   "cell_type": "markdown",
   "metadata": {},
   "source": [
    "# Gaussian Process Regression with Scikit-Learn"
   ]
  },
  {
   "cell_type": "code",
   "execution_count": 14,
   "metadata": {},
   "outputs": [
    {
     "data": {
      "image/png": "[encoded data removed]",
      "text/plain": [
       "<Figure size 288x216 with 1 Axes>"
      ]
     },
     "metadata": {
      "needs_background": "light"
     },
     "output_type": "display_data"
    }
   ],
   "source": [
    "from sklearn.gaussian_process import GaussianProcessRegressor\n",
    "from sklearn.gaussian_process.kernels import WhiteKernel, DotProduct, RBF\n",
    "import matplotlib.pyplot as plt\n",
    "import numpy as np\n",
    "\n",
    "# Random seeds\n",
    "np.random.seed(seed=0)  # Set seed for NumPy\n",
    "random_state = 0\n",
    "\n",
    "# Generate features, and take norm for use with target\n",
    "x = np.random.normal(loc=0, scale=1, size=(50, 1))\n",
    "y = np.sin(x)\n",
    "\n",
    "# Create kernel and define GPR\n",
    "kernel = RBF() + WhiteKernel()\n",
    "gpr = GaussianProcessRegressor(kernel=kernel, random_state=random_state)\n",
    "\n",
    "# Fit GPR model\n",
    "gpr.fit(x, y)\n",
    "\n",
    "# Create test data\n",
    "x_test = np.random.normal(loc=0, scale=1, size=(50, 1))\n",
    "y_test = np.sin(x_test)\n",
    " \n",
    "# Predict mean\n",
    "y_hat, y_sigma = gpr.predict(x_test, return_std=True)\n",
    "\n",
    "# Initialize plot\n",
    "f, ax = plt.subplots(1, 1, figsize=(4, 3))\n",
    "\n",
    "# Squeeze data\n",
    "x = np.squeeze(x)\n",
    "y = np.squeeze(y)\n",
    "x_test = np.squeeze(x_test)\n",
    "y_test = np.squeeze(y_test)\n",
    "\n",
    "# Plot the training data\n",
    "ax.scatter(x, y)\n",
    "\n",
    "# Plot predictive means as blue line\n",
    "ax.plot(x_test, y_hat, 'b')\n",
    "\n",
    "# Shade between the lower and upper confidence bounds\n",
    "lower = x_test - y_sigma\n",
    "upper = x_test + y_sigma\n",
    "ax.fill_between(x_test, lower, upper, alpha=0.5)\n",
    "ax.set_ylim([-3, 3])\n",
    "plt.title(\"GPR Model Predictions\")\n",
    "plt.show()"
   ]
  }
 ],
 "metadata": {
  "kernelspec": {
   "display_name": "interreplay",
   "language": "python",
   "name": "interreplay"
  },
  "language_info": {
   "codemirror_mode": {
    "name": "ipython",
    "version": 3
   },
   "file_extension": ".py",
   "mimetype": "text/x-python",
   "name": "python",
   "nbconvert_exporter": "python",
   "pygments_lexer": "ipython3",
   "version": "3.8.3"
  }
 },
 "nbformat": 4,
 "nbformat_minor": 4
}
