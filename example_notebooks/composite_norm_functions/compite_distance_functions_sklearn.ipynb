{
 "cells": [
  {
   "cell_type": "markdown",
   "metadata": {},
   "source": [
    "# Composite Distance Functions Using Sklearn Nearest Neighbors\n",
    "This notebook illustrates how to make composite product norms using `sklearn` that can be used for `NearestNeighbor` objects."
   ]
  },
  {
   "cell_type": "markdown",
   "metadata": {},
   "source": [
    "### Import Block\n",
    "For this notebook, we'll be using `sklearn` and `numpy`."
   ]
  },
  {
   "cell_type": "code",
   "execution_count": null,
   "metadata": {},
   "outputs": [],
   "source": [
    "import numpy as np\n",
    "import sklearn\n",
    "import numpy as np\n",
    "from sklearn.neighbors import KDTree, DistanceMetric, NearestNeighbors"
   ]
  },
  {
   "cell_type": "markdown",
   "metadata": {},
   "source": [
    "### Define Norm as Product of Norms\n",
    "Here, we will use a composite product norm composed of a product of norms over given (contiguous) subsets of states. The norms over these subsets are taken to be L2 norms.\n",
    "\n",
    "If $\\mathbf{x} = [\\mathbf{s} \\; \\mathbf{a}]^T$, where $\\mathbf{s}$ and $\\mathbf{a}$ are the contiguous subsets of $\\mathbf{x} \\in \\mathbb{R}^d$ that this product norm is decomposed into, then this product norm can be written as:\n",
    "\n",
    "$$d(\\mathbf{x}_1, \\mathbf{x}_2) = ||\\mathbf{s}_1 - \\mathbf{s}_2||_2 \\times ||\\mathbf{a}_1 - \\mathbf{a}_2||_2$$"
   ]
  },
  {
   "cell_type": "code",
   "execution_count": null,
   "metadata": {},
   "outputs": [],
   "source": [
    "def composite_product_norm(x1, x2, **kwargs):\n",
    "    \"\"\"Function defining a composite product norm over states and actions.\n",
    "\n",
    "    This norm is intended to be used with GPR kernels that have a product\n",
    "    decomposition over states and actions. This norm can therefore be used to\n",
    "    calculate composite L2 distance between states and actions. It is therefore\n",
    "    only small when similar actions are taken in similar states.\n",
    "\n",
    "    Parameters:\n",
    "        x1 (np.array): Array corresponding to the first input vector. Distance\n",
    "            is calculated as the distance between x1 and x2.\n",
    "        x2 (np.array): Array corresponding to the second input vector. Distance\n",
    "            is calculated as the distance between x2 and x1.\n",
    "\n",
    "    Returns:\n",
    "        d (float): A float value corresponding to the composite product norm\n",
    "            distance between x1 and x2 in standardized space. Since points are\n",
    "            standardized in each dimension, this is a measure of the product of\n",
    "            state and action similarities.\n",
    "    \"\"\"\n",
    "    # Get state dimension\n",
    "    ds = kwargs[\"ds\"]\n",
    "\n",
    "    # Get states and actions of both inputs\n",
    "    x1_states, x1_actions = x1[:ds], x1[ds:]\n",
    "    x2_states, x2_actions = x2[:ds], x2[ds:]\n",
    "\n",
    "    # Now compute product of L2 norms\n",
    "    return np.linalg.norm(x1_states - x2_states, ord=2) * \\\n",
    "           np.linalg.norm(x1_actions - x2_actions, ord=2)\n"
   ]
  },
  {
   "cell_type": "markdown",
   "metadata": {},
   "source": [
    "### Apply Composite Norm Function to Nearest Neighbors \n",
    "With our distance metric defined, we are now ready to apply this metric to a `NearestNeighbor` example."
   ]
  },
  {
   "cell_type": "code",
   "execution_count": null,
   "metadata": {},
   "outputs": [],
   "source": [
    "# Create dataset\n",
    "X = np.random.normal(loc=0, scale=1, size=(100, 4))  # Normally-distributed data\n",
    "ds = 2  # Dimension separating subsets"
   ]
  },
  {
   "cell_type": "markdown",
   "metadata": {},
   "source": [
    "### Fit NearestNeighbor Object Using Composite Metric"
   ]
  },
  {
   "cell_type": "code",
   "execution_count": null,
   "metadata": {},
   "outputs": [],
   "source": [
    "knn = NearestNeighbors(n_neighbors=10, metric=composite_product_norm, \n",
    "                       metric_params={\"ds\": ds}).fit(X)"
   ]
  }
 ],
 "metadata": {
  "kernelspec": {
   "display_name": "interreplay",
   "language": "python",
   "name": "interreplay"
  },
  "language_info": {
   "codemirror_mode": {
    "name": "ipython",
    "version": 3
   },
   "file_extension": ".py",
   "mimetype": "text/x-python",
   "name": "python",
   "nbconvert_exporter": "python",
   "pygments_lexer": "ipython3",
   "version": "3.8.3"
  }
 },
 "nbformat": 4,
 "nbformat_minor": 4
}
