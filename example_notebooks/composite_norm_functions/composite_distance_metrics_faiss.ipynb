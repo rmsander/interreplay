{
 "cells": [
  {
   "cell_type": "markdown",
   "metadata": {},
   "source": [
    "# Constructing Composite Distance Functions in FAISS\n",
    "This is an (ongoing) attempt to generate a `FAISS` object using composite norms, in this case, a product of L2 norms over contiguous subsets of given input vectors.\n",
    "\n",
    "**NOTE**: For a finished implementation of how these composite norms can be applied for Nearest Neighbor applications, please check out the other notebook in this directory. This other notebook implements this metric using `sklearn`."
   ]
  },
  {
   "cell_type": "markdown",
   "metadata": {},
   "source": [
    "### Import Block\n",
    "Here, we make use of `faiss`, which is written in C++, for high-performance similarity searches, in this case, Nearest Neighbors."
   ]
  },
  {
   "cell_type": "code",
   "execution_count": 3,
   "metadata": {},
   "outputs": [],
   "source": [
    "import faiss\n",
    "import numpy as np"
   ]
  },
  {
   "cell_type": "markdown",
   "metadata": {},
   "source": [
    "### Generate Dataset\n",
    "We'll use random samples drawn from a MVN distribution as a toy dataset for this problem."
   ]
  },
  {
   "cell_type": "code",
   "execution_count": 27,
   "metadata": {},
   "outputs": [],
   "source": [
    "# Generate data\n",
    "X = np.random.normal(loc=0, scale=1, size=(100000, 20)).astype(np.float32)\n",
    "\n",
    "# Get dimensions\n",
    "d1 = 2\n",
    "d2 = X.shape[1] - d1\n",
    "\n",
    "# Slice observations and actions\n",
    "O = X[:, :d1]  # Observation slice\n",
    "A = X[:, d1:]  # Action slice\n",
    "\n",
    "# Create index for observations\n",
    "index_1 = faiss.IndexFlatL2(d1)\n",
    "index_1.add(O.astype(np.float32))\n",
    "\n",
    "# Create index for actions\n",
    "index_2 = faiss.IndexFlatL2(d2)\n",
    "index_2.add(A.astype(np.float32))"
   ]
  },
  {
   "cell_type": "markdown",
   "metadata": {},
   "source": [
    "## Compute distances\n",
    "This code block enumerates how we can compute distances over subsets of inputs by only providing the fit indices (trained on the same contiguous subsets of the input space) with subsets of query vectors."
   ]
  },
  {
   "cell_type": "code",
   "execution_count": 19,
   "metadata": {},
   "outputs": [],
   "source": [
    "# Need to convert array to C-order\n",
    "X_search = np.random.normal(loc=0, scale=1, size=((256, 20))).astype(np.float32)\n",
    "X_search_1 = X_search[:, :d1]\n",
    "X_search_2 = X_search[:, d1:]\n",
    "X_search_1= X_search_1.copy(order=\"C\")\n",
    "X_search_2= X_search_2.copy(order=\"C\")\n",
    "\n",
    "# Use the search functionality with FAISS to generate nearest neighbor matches\n",
    "d1, _ = index_1.search(X_search_1, X.shape[0])\n",
    "d2, _ = index_2.search(X_search_2, X.shape[0])"
   ]
  },
  {
   "cell_type": "markdown",
   "metadata": {},
   "source": [
    "### (Under Development) Composite FAISS Nearest Neighbor Class\n",
    "This class, once finished, will compute a product of norms using flat indices over contiguous subsets of the input vectors."
   ]
  },
  {
   "cell_type": "code",
   "execution_count": null,
   "metadata": {},
   "outputs": [],
   "source": [
    "class CompositeFaissKNeighbors:\n",
    "    \"\"\"An implementation of FAISS trees that supports composite similarity\n",
    "    search for composite kernels. This composite similarity is computed\n",
    "    separately for both states and actions.\n",
    "\n",
    "    Parameters:\n",
    "        k (int): The number of neighbors we consider for the FAISS tree.\n",
    "    \"\"\"\n",
    "    def __init__(self, k=50):\n",
    "        self.index = None\n",
    "        self.k = k\n",
    "\n",
    "    def fit(self, X, d_obs):\n",
    "        \"\"\"Function to fit the FAISS tree.\n",
    "\n",
    "        Parameters:\n",
    "            X (np.array): Observation array of shape (N, d_obs + d_action),\n",
    "                where N is the number of samples, d_obs is the dimension of\n",
    "                the observations, and d_action is the dimension of the actions.\n",
    "                Note that the array must be of type np.float32.\n",
    "            d_obs (int): The dimension of the observation space.\n",
    "        \"\"\"\n",
    "        # Get dimensions of state and action spaces\n",
    "        d_action = X.shape[1] - d_obs\n",
    "\n",
    "        # Slice observations and actions\n",
    "        O = X[:, :d_obs]  # Observation slice\n",
    "        A = X[:, d_obs:]  # Action slice\n",
    "\n",
    "        # Create index for observations\n",
    "        self.index_obs = faiss.IndexFlatL2(d_obs)\n",
    "        self.index_obs.add(O.astype(np.float32))\n",
    "\n",
    "        # Create index for actions\n",
    "        self.index_action = faiss.IndexFlatL2(d_action)\n",
    "        self.index_action.add(A.astype(np.float32))\n",
    "\n",
    "    def query(self, X, d_obs, k=None):\n",
    "        \"\"\"Function to query the neighbors of the FAISS index.\n",
    "\n",
    "        This method fits the Index corresponding to the FAISS tree with\n",
    "        neighbor data used for querying.\n",
    "\n",
    "        Parameters:\n",
    "            X (np.array): Array of shape (N, D), where N is the number of\n",
    "                samples, and D is the dimension of the features.\n",
    "            d_obs (int): The dimension of the observation space.\n",
    "            k (int): If provided, the number of neighbors to compute. Defaults\n",
    "                to None, in which case self.k is used as the number of neighbors.\n",
    "\n",
    "        Returns:\n",
    "            indices (np.array): Array of shape (N, K), where N is the number of\n",
    "                samples, and K is the number of nearest neighbors to be computed.\n",
    "                The ith row corresponds to the k-nearest neighbors of the ith\n",
    "                sample.\n",
    "        \"\"\"\n",
    "        # Set number of neighbors\n",
    "        if k is None:  # Use default number of neighbors\n",
    "            k = self.k\n",
    "\n",
    "        # Slice observations and actions\n",
    "        O = X[:, :d_obs]  # Observation slice\n",
    "        A = X[:, d_obs:]  # Action slice\n",
    "\n",
    "        self.index_action.compute_distance_subset()\n",
    "        self.index_action.search_and_reconstruct()\n",
    "        self.index_action.search(n, x, k=...)\n",
    "\n",
    "        # Query and return nearest neighbors\n",
    "        d_obs, _ = self.index_obs.search(O.astype(np.float32), k=k)\n",
    "        d_action, _ = self.index_action.search(A.astype(np.float32), k=k)\n",
    "        return indices\n"
   ]
  }
 ],
 "metadata": {
  "kernelspec": {
   "display_name": "interreplay",
   "language": "python",
   "name": "interreplay"
  },
  "language_info": {
   "codemirror_mode": {
    "name": "ipython",
    "version": 3
   },
   "file_extension": ".py",
   "mimetype": "text/x-python",
   "name": "python",
   "nbconvert_exporter": "python",
   "pygments_lexer": "ipython3",
   "version": "3.8.3"
  },
  "pycharm": {
   "stem_cell": {
    "cell_type": "raw",
    "metadata": {
     "collapsed": false
    },
    "source": []
   }
  }
 },
 "nbformat": 4,
 "nbformat_minor": 4
}
