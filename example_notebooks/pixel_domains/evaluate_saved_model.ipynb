{
 "cells": [
  {
   "cell_type": "code",
   "execution_count": null,
   "metadata": {},
   "outputs": [],
   "source": [
    "import tensorflow as tf\n",
    "import numpy as np\n",
    "import os\n",
    "import ray\n",
    "from ray.rllib.agents.sac import SACTrainer\n",
    "import gym\n",
    "import matplotlib.pyplot as plt\n",
    "import matplotlib\n",
    "%matplotlib inline\n",
    "import PIL\n",
    "from IPython import display\n",
    "from ray.rllib.policy.sample_batch import DEFAULT_POLICY_ID\n"
   ]
  },
  {
   "cell_type": "code",
   "execution_count": null,
   "metadata": {},
   "outputs": [],
   "source": [
    "PATH_TO_MODEL = None  # TODO: Put checkpoint path here"
   ]
  },
  {
   "cell_type": "code",
   "execution_count": null,
   "metadata": {},
   "outputs": [],
   "source": [
    "trainer = SACTrainer.with_updates(name=\"ISAC-3\")\n",
    "        \n",
    "# If you want to call trainer from path, can do so here\n",
    "if os.path.exists(PATH_TO_MODEL):\n",
    "    trainer.restore(0, PATH_TO_MODEL)"
   ]
  },
  {
   "cell_type": "code",
   "execution_count": null,
   "metadata": {},
   "outputs": [],
   "source": [
    "pi = trainer._policy"
   ]
  },
  {
   "cell_type": "code",
   "execution_count": null,
   "metadata": {},
   "outputs": [],
   "source": [
    "N_steps = 50\n",
    "\n",
    "env = gym.make('CartPole-v1')\n",
    "env.reset()\n",
    "A = env.render(mode='rgb_array').astype(np.uint8)\n",
    "img = plt.imshow(A) # only call this once\n",
    "D = np.zeros(A.shape + (N_steps,)).astype(np.uint8)\n",
    "for i in range(N_steps):\n",
    "    \n",
    "    A = env.render(mode='rgb_array')\n",
    "    D[..., i] = A\n",
    "    img.set_data(A) # just update the data\n",
    "    display.display(plt.gcf())\n",
    "    display.clear_output(wait=True)\n",
    "    action = env.action_space.sample()\n",
    "    env.step(action)"
   ]
  }
 ],
 "metadata": {
  "kernelspec": {
   "display_name": "interreplay",
   "language": "python",
   "name": "interreplay"
  },
  "language_info": {
   "codemirror_mode": {
    "name": "ipython",
    "version": 3
   },
   "file_extension": ".py",
   "mimetype": "text/x-python",
   "name": "python",
   "nbconvert_exporter": "python",
   "pygments_lexer": "ipython3",
   "version": "3.8.3"
  }
 },
 "nbformat": 4,
 "nbformat_minor": 2
}
